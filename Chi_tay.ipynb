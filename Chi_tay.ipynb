{
  "nbformat": 4,
  "nbformat_minor": 0,
  "metadata": {
    "colab": {
      "provenance": [],
      "mount_file_id": "1Xlk4x-zknlukSr2BCMDzSi1NdNrRULv_",
      "authorship_tag": "ABX9TyMCL/BVGkvSa0d0dACZxqvx",
      "include_colab_link": true
    },
    "kernelspec": {
      "name": "python3",
      "display_name": "Python 3"
    },
    "language_info": {
      "name": "python"
    }
  },
  "cells": [
    {
      "cell_type": "markdown",
      "metadata": {
        "id": "view-in-github",
        "colab_type": "text"
      },
      "source": [
        "<a href=\"https://colab.research.google.com/github/LTrinhKhang/AI-Week-1/blob/main/Chi_tay.ipynb\" target=\"_parent\"><img src=\"https://colab.research.google.com/assets/colab-badge.svg\" alt=\"Open In Colab\"/></a>"
      ]
    },
    {
      "cell_type": "code",
      "execution_count": null,
      "metadata": {
        "colab": {
          "base_uri": "https://localhost:8080/",
          "height": 452
        },
        "id": "8ADfebiYDki8",
        "outputId": "fda83db0-b726-4f2a-9d1b-736df742201a"
      },
      "outputs": [
        {
          "output_type": "execute_result",
          "data": {
            "text/plain": [
              "<matplotlib.image.AxesImage at 0x7fb4e0d00580>"
            ]
          },
          "metadata": {},
          "execution_count": 1
        },
        {
          "output_type": "display_data",
          "data": {
            "text/plain": [
              "<Figure size 640x480 with 10 Axes>"
            ],
            "image/png": "[encoded data removed]"
          },
          "metadata": {}
        }
      ],
      "source": [
        "import matplotlib.pyplot as plt\n",
        "from matplotlib.image import imread\n",
        "folder = '/content/drive/MyDrive/tay/'\n",
        "for i in range(10):\n",
        "  plt.subplot(10,1,i+1)\n",
        "  filename=folder+'8 ('+str(i+1)+').jpg'\n",
        "  img=imread(filename)\n",
        "  plt.imshow(img)\n",
        "plt.imshow(img)"
      ]
    },
    {
      "cell_type": "code",
      "source": [
        "from os import listdir\n",
        "from os.path import isdir\n",
        "from numpy import asarray\n",
        "from numpy import save\n",
        "from keras.utils import load_img, img_to_array\n",
        "folder = '/content/drive/MyDrive/tay/'\n",
        "photos, labels = list(), list()\n",
        "for file in listdir(folder):\n",
        "  output = 0.0\n",
        "  if file.startswith('1'):\n",
        "    output = 1\n",
        "  if file.startswith('2'):\n",
        "    output = 2\n",
        "  if file.startswith('3'):\n",
        "    output = 3\n",
        "  if file.startswith('4'):\n",
        "    output = 4\n",
        "  if file.startswith('5'):\n",
        "    output = 5\n",
        "  if file.startswith('6'):\n",
        "    output = 6\n",
        "  if file.startswith('7'):\n",
        "    output = 7\n",
        "  if file.startswith('8'):\n",
        "    output = 8\n",
        "  img =load_img(folder+file,target_size=(30,40))\n",
        "  photo = img_to_array(img)\n",
        "  photos.append(photo)\n",
        "  labels.append(output)\n",
        "photos = asarray(photos)\n",
        "labels = asarray(labels)\n",
        "print(photos.shape,labels.shape)\n",
        "save('tay_photos.npy',photos)\n",
        "save('tay_labels.npy',labels)"
      ],
      "metadata": {
        "colab": {
          "base_uri": "https://localhost:8080/"
        },
        "id": "l6n0SYGBD39k",
        "outputId": "a5015177-169c-4d5d-9394-7dc7ba9ea9f3"
      },
      "execution_count": null,
      "outputs": [
        {
          "output_type": "stream",
          "name": "stdout",
          "text": [
            "(80, 30, 40, 3) (80,)\n"
          ]
        }
      ]
    },
    {
      "cell_type": "code",
      "source": [
        "import numpy as np\n",
        "x_train = np.load('/content/tay_photos.npy')\n",
        "y_train = np.load('/content/tay_labels.npy')\n",
        "print(x_train.shape)\n",
        "print(y_train.shape)\n",
        "x=x_train\n",
        "y=y_train\n",
        "from keras.utils import to_categorical\n",
        "x_train = x_train.astype('float32')/255\n",
        "y_train = to_categorical(y_train,100)"
      ],
      "metadata": {
        "colab": {
          "base_uri": "https://localhost:8080/"
        },
        "id": "wpSfKIghEMeI",
        "outputId": "42dabf22-596a-413e-b2ef-c2b343664a79"
      },
      "execution_count": null,
      "outputs": [
        {
          "output_type": "stream",
          "name": "stdout",
          "text": [
            "(80, 30, 40, 3)\n",
            "(80,)\n"
          ]
        }
      ]
    },
    {
      "cell_type": "code",
      "source": [
        "from keras.backend import flatten\n",
        "from keras.models import Sequential\n",
        "from keras.layers import Dense,Dropout,Flatten,Conv2D,MaxPooling2D,Normalization,LeakyReLU\n",
        "from keras.optimizers import Adam\n",
        "#32 lần\n",
        "model = Sequential()\n",
        "model.add(Conv2D(32,kernel_size = (3,3),activation = 'relu',input_shape=(30,40,3),padding='Same'))\n",
        "model.add(MaxPooling2D((2,2),padding='same'))\n",
        "model.add(Dropout(0.25))\n",
        "\n",
        "#64 lần\n",
        "model.add(Conv2D(64,(3,3),activation ='relu',padding ='same'))\n",
        "model.add(MaxPooling2D((2,2),padding='same'))\n",
        "model.add(Dropout(0.25))\n",
        "\n",
        "#128 lần\n",
        "model.add(Conv2D(128,(3,3),activation ='relu',padding ='same'))\n",
        "model.add(MaxPooling2D((2,2),padding='same'))\n",
        "model.add(Dropout(0.25))\n",
        "\n",
        "model.add(Flatten())\n",
        "model.add(Dense(128,activation='linear'))\n",
        "model.add(LeakyReLU(alpha=0.1))\n",
        "model.add(Dense(100,activation='softmax'))\n",
        "from keras.losses import categorical_crossentropy\n",
        "model.compile(loss='categorical_crossentropy',optimizer=Adam(),metrics=['accuracy'])\n",
        "model.summary()\n",
        "train = model.fit(x_train,y_train,epochs=128,batch_size=64,verbose=1)\n"
      ],
      "metadata": {
        "colab": {
          "base_uri": "https://localhost:8080/"
        },
        "id": "UZNYYNbEEOqw",
        "outputId": "8838e897-20f7-4a5a-8f6b-955cefebe5b0"
      },
      "execution_count": null,
      "outputs": [
        {
          "output_type": "stream",
          "name": "stdout",
          "text": [
            "Model: \"sequential\"\n",
            "_________________________________________________________________\n",
            " Layer (type)                Output Shape              Param #   \n",
            "=================================================================\n",
            " conv2d (Conv2D)             (None, 30, 40, 32)        896       \n",
            "                                                                 \n",
            " max_pooling2d (MaxPooling2D  (None, 15, 20, 32)       0         \n",
            " )                                                               \n",
            "                                                                 \n",
            " dropout (Dropout)           (None, 15, 20, 32)        0         \n",
            "                                                                 \n",
            " conv2d_1 (Conv2D)           (None, 15, 20, 64)        18496     \n",
            "                                                                 \n",
            " max_pooling2d_1 (MaxPooling  (None, 8, 10, 64)        0         \n",
            " 2D)                                                             \n",
            "                                                                 \n",
            " dropout_1 (Dropout)         (None, 8, 10, 64)         0         \n",
            "                                                                 \n",
            " conv2d_2 (Conv2D)           (None, 8, 10, 128)        73856     \n",
            "                                                                 \n",
            " max_pooling2d_2 (MaxPooling  (None, 4, 5, 128)        0         \n",
            " 2D)                                                             \n",
            "                                                                 \n",
            " dropout_2 (Dropout)         (None, 4, 5, 128)         0         \n",
            "                                                                 \n",
            " flatten (Flatten)           (None, 2560)              0         \n",
            "                                                                 \n",
            " dense (Dense)               (None, 128)               327808    \n",
            "                                                                 \n",
            " leaky_re_lu (LeakyReLU)     (None, 128)               0         \n",
            "                                                                 \n",
            " dense_1 (Dense)             (None, 100)               12900     \n",
            "                                                                 \n",
            "=================================================================\n",
            "Total params: 433,956\n",
            "Trainable params: 433,956\n",
            "Non-trainable params: 0\n",
            "_________________________________________________________________\n",
            "Epoch 1/128\n",
            "2/2 [==============================] - 3s 156ms/step - loss: 4.5601 - accuracy: 0.0250\n",
            "Epoch 2/128\n",
            "2/2 [==============================] - 0s 51ms/step - loss: 3.6425 - accuracy: 0.0875\n",
            "Epoch 3/128\n",
            "2/2 [==============================] - 0s 104ms/step - loss: 2.6734 - accuracy: 0.0625\n",
            "Epoch 4/128\n",
            "2/2 [==============================] - 0s 101ms/step - loss: 2.4349 - accuracy: 0.1250\n",
            "Epoch 5/128\n",
            "2/2 [==============================] - 0s 101ms/step - loss: 2.1538 - accuracy: 0.1750\n",
            "Epoch 6/128\n",
            "2/2 [==============================] - 0s 106ms/step - loss: 2.3058 - accuracy: 0.1000\n",
            "Epoch 7/128\n",
            "2/2 [==============================] - 0s 98ms/step - loss: 2.2048 - accuracy: 0.1250\n",
            "Epoch 8/128\n",
            "2/2 [==============================] - 0s 91ms/step - loss: 2.0931 - accuracy: 0.1500\n",
            "Epoch 9/128\n",
            "2/2 [==============================] - 0s 107ms/step - loss: 2.2027 - accuracy: 0.1750\n",
            "Epoch 10/128\n",
            "2/2 [==============================] - 0s 103ms/step - loss: 2.1270 - accuracy: 0.1375\n",
            "Epoch 11/128\n",
            "2/2 [==============================] - 0s 99ms/step - loss: 2.0849 - accuracy: 0.1625\n",
            "Epoch 12/128\n",
            "2/2 [==============================] - 0s 98ms/step - loss: 2.0746 - accuracy: 0.1625\n",
            "Epoch 13/128\n",
            "2/2 [==============================] - 0s 104ms/step - loss: 2.0705 - accuracy: 0.2000\n",
            "Epoch 14/128\n",
            "2/2 [==============================] - 0s 89ms/step - loss: 2.0764 - accuracy: 0.2000\n",
            "Epoch 15/128\n",
            "2/2 [==============================] - 0s 61ms/step - loss: 2.0514 - accuracy: 0.1875\n",
            "Epoch 16/128\n",
            "2/2 [==============================] - 0s 68ms/step - loss: 2.0665 - accuracy: 0.2250\n",
            "Epoch 17/128\n",
            "2/2 [==============================] - 0s 56ms/step - loss: 2.0168 - accuracy: 0.2125\n",
            "Epoch 18/128\n",
            "2/2 [==============================] - 0s 69ms/step - loss: 2.0473 - accuracy: 0.2000\n",
            "Epoch 19/128\n",
            "2/2 [==============================] - 0s 51ms/step - loss: 2.0790 - accuracy: 0.1625\n",
            "Epoch 20/128\n",
            "2/2 [==============================] - 0s 51ms/step - loss: 2.0240 - accuracy: 0.1875\n",
            "Epoch 21/128\n",
            "2/2 [==============================] - 0s 59ms/step - loss: 2.0078 - accuracy: 0.2500\n",
            "Epoch 22/128\n",
            "2/2 [==============================] - 0s 51ms/step - loss: 1.9738 - accuracy: 0.2125\n",
            "Epoch 23/128\n",
            "2/2 [==============================] - 0s 52ms/step - loss: 1.9700 - accuracy: 0.2500\n",
            "Epoch 24/128\n",
            "2/2 [==============================] - 0s 51ms/step - loss: 1.9436 - accuracy: 0.2500\n",
            "Epoch 25/128\n",
            "2/2 [==============================] - 0s 60ms/step - loss: 1.9518 - accuracy: 0.1875\n",
            "Epoch 26/128\n",
            "2/2 [==============================] - 0s 53ms/step - loss: 1.9093 - accuracy: 0.3375\n",
            "Epoch 27/128\n",
            "2/2 [==============================] - 0s 51ms/step - loss: 1.9023 - accuracy: 0.2500\n",
            "Epoch 28/128\n",
            "2/2 [==============================] - 1s 130ms/step - loss: 1.9134 - accuracy: 0.2375\n",
            "Epoch 29/128\n",
            "2/2 [==============================] - 0s 57ms/step - loss: 1.9229 - accuracy: 0.2125\n",
            "Epoch 30/128\n",
            "2/2 [==============================] - 0s 51ms/step - loss: 1.9090 - accuracy: 0.2500\n",
            "Epoch 31/128\n",
            "2/2 [==============================] - 0s 55ms/step - loss: 1.9185 - accuracy: 0.2500\n",
            "Epoch 32/128\n",
            "2/2 [==============================] - 0s 60ms/step - loss: 1.8688 - accuracy: 0.2500\n",
            "Epoch 33/128\n",
            "2/2 [==============================] - 0s 51ms/step - loss: 1.8561 - accuracy: 0.3375\n",
            "Epoch 34/128\n",
            "2/2 [==============================] - 0s 56ms/step - loss: 1.8477 - accuracy: 0.3000\n",
            "Epoch 35/128\n",
            "2/2 [==============================] - 0s 51ms/step - loss: 1.8810 - accuracy: 0.2500\n",
            "Epoch 36/128\n",
            "2/2 [==============================] - 0s 69ms/step - loss: 1.7957 - accuracy: 0.3500\n",
            "Epoch 37/128\n",
            "2/2 [==============================] - 0s 61ms/step - loss: 1.7525 - accuracy: 0.4125\n",
            "Epoch 38/128\n",
            "2/2 [==============================] - 0s 58ms/step - loss: 1.7286 - accuracy: 0.3500\n",
            "Epoch 39/128\n",
            "2/2 [==============================] - 0s 67ms/step - loss: 1.6904 - accuracy: 0.4250\n",
            "Epoch 40/128\n",
            "2/2 [==============================] - 0s 58ms/step - loss: 1.5966 - accuracy: 0.4875\n",
            "Epoch 41/128\n",
            "2/2 [==============================] - 0s 57ms/step - loss: 1.5349 - accuracy: 0.4625\n",
            "Epoch 42/128\n",
            "2/2 [==============================] - 0s 58ms/step - loss: 1.6356 - accuracy: 0.4000\n",
            "Epoch 43/128\n",
            "2/2 [==============================] - 0s 51ms/step - loss: 1.4850 - accuracy: 0.4500\n",
            "Epoch 44/128\n",
            "2/2 [==============================] - 0s 59ms/step - loss: 1.4551 - accuracy: 0.4375\n",
            "Epoch 45/128\n",
            "2/2 [==============================] - 0s 63ms/step - loss: 1.2970 - accuracy: 0.5625\n",
            "Epoch 46/128\n",
            "2/2 [==============================] - 0s 58ms/step - loss: 1.4395 - accuracy: 0.5125\n",
            "Epoch 47/128\n",
            "2/2 [==============================] - 0s 58ms/step - loss: 1.3217 - accuracy: 0.5000\n",
            "Epoch 48/128\n",
            "2/2 [==============================] - 0s 63ms/step - loss: 1.3671 - accuracy: 0.5750\n",
            "Epoch 49/128\n",
            "2/2 [==============================] - 0s 51ms/step - loss: 1.3571 - accuracy: 0.5125\n",
            "Epoch 50/128\n",
            "2/2 [==============================] - 0s 58ms/step - loss: 1.3103 - accuracy: 0.5750\n",
            "Epoch 51/128\n",
            "2/2 [==============================] - 0s 58ms/step - loss: 1.1690 - accuracy: 0.6000\n",
            "Epoch 52/128\n",
            "2/2 [==============================] - 0s 58ms/step - loss: 1.1172 - accuracy: 0.6500\n",
            "Epoch 53/128\n",
            "2/2 [==============================] - 0s 52ms/step - loss: 1.1795 - accuracy: 0.5625\n",
            "Epoch 54/128\n",
            "2/2 [==============================] - 0s 51ms/step - loss: 1.0409 - accuracy: 0.6000\n",
            "Epoch 55/128\n",
            "2/2 [==============================] - 0s 91ms/step - loss: 0.9481 - accuracy: 0.6750\n",
            "Epoch 56/128\n",
            "2/2 [==============================] - 0s 94ms/step - loss: 0.9221 - accuracy: 0.7000\n",
            "Epoch 57/128\n",
            "2/2 [==============================] - 0s 96ms/step - loss: 1.0099 - accuracy: 0.6750\n",
            "Epoch 58/128\n",
            "2/2 [==============================] - 0s 101ms/step - loss: 0.9606 - accuracy: 0.6625\n",
            "Epoch 59/128\n",
            "2/2 [==============================] - 0s 103ms/step - loss: 0.8085 - accuracy: 0.7250\n",
            "Epoch 60/128\n",
            "2/2 [==============================] - 0s 70ms/step - loss: 0.8034 - accuracy: 0.7250\n",
            "Epoch 61/128\n",
            "2/2 [==============================] - 0s 100ms/step - loss: 0.8465 - accuracy: 0.7000\n",
            "Epoch 62/128\n",
            "2/2 [==============================] - 0s 105ms/step - loss: 0.7944 - accuracy: 0.7250\n",
            "Epoch 63/128\n",
            "2/2 [==============================] - 0s 115ms/step - loss: 0.7654 - accuracy: 0.7375\n",
            "Epoch 64/128\n",
            "2/2 [==============================] - 0s 93ms/step - loss: 0.8125 - accuracy: 0.7000\n",
            "Epoch 65/128\n",
            "2/2 [==============================] - 0s 102ms/step - loss: 0.6515 - accuracy: 0.7375\n",
            "Epoch 66/128\n",
            "2/2 [==============================] - 0s 57ms/step - loss: 0.6407 - accuracy: 0.7625\n",
            "Epoch 67/128\n",
            "2/2 [==============================] - 0s 58ms/step - loss: 0.6469 - accuracy: 0.7875\n",
            "Epoch 68/128\n",
            "2/2 [==============================] - 0s 57ms/step - loss: 0.5834 - accuracy: 0.7625\n",
            "Epoch 69/128\n",
            "2/2 [==============================] - 0s 55ms/step - loss: 0.4865 - accuracy: 0.8500\n",
            "Epoch 70/128\n",
            "2/2 [==============================] - 0s 52ms/step - loss: 0.5002 - accuracy: 0.8375\n",
            "Epoch 71/128\n",
            "2/2 [==============================] - 0s 66ms/step - loss: 0.4663 - accuracy: 0.8750\n",
            "Epoch 72/128\n",
            "2/2 [==============================] - 0s 51ms/step - loss: 0.4605 - accuracy: 0.8125\n",
            "Epoch 73/128\n",
            "2/2 [==============================] - 0s 56ms/step - loss: 0.4577 - accuracy: 0.7750\n",
            "Epoch 74/128\n",
            "2/2 [==============================] - 0s 59ms/step - loss: 0.3821 - accuracy: 0.8500\n",
            "Epoch 75/128\n",
            "2/2 [==============================] - 0s 59ms/step - loss: 0.4440 - accuracy: 0.8750\n",
            "Epoch 76/128\n",
            "2/2 [==============================] - 0s 63ms/step - loss: 0.3317 - accuracy: 0.9000\n",
            "Epoch 77/128\n",
            "2/2 [==============================] - 0s 55ms/step - loss: 0.5461 - accuracy: 0.8125\n",
            "Epoch 78/128\n",
            "2/2 [==============================] - 0s 55ms/step - loss: 0.3728 - accuracy: 0.9125\n",
            "Epoch 79/128\n",
            "2/2 [==============================] - 0s 58ms/step - loss: 0.4539 - accuracy: 0.8250\n",
            "Epoch 80/128\n",
            "2/2 [==============================] - 0s 61ms/step - loss: 0.4288 - accuracy: 0.8125\n",
            "Epoch 81/128\n",
            "2/2 [==============================] - 0s 57ms/step - loss: 0.3357 - accuracy: 0.8750\n",
            "Epoch 82/128\n",
            "2/2 [==============================] - 0s 65ms/step - loss: 0.2625 - accuracy: 0.9125\n",
            "Epoch 83/128\n",
            "2/2 [==============================] - 0s 59ms/step - loss: 0.3530 - accuracy: 0.8875\n",
            "Epoch 84/128\n",
            "2/2 [==============================] - 0s 56ms/step - loss: 0.2664 - accuracy: 0.9125\n",
            "Epoch 85/128\n",
            "2/2 [==============================] - 0s 63ms/step - loss: 0.2861 - accuracy: 0.9000\n",
            "Epoch 86/128\n",
            "2/2 [==============================] - 0s 52ms/step - loss: 0.3045 - accuracy: 0.8750\n",
            "Epoch 87/128\n",
            "2/2 [==============================] - 0s 60ms/step - loss: 0.2350 - accuracy: 0.9375\n",
            "Epoch 88/128\n",
            "2/2 [==============================] - 0s 69ms/step - loss: 0.2221 - accuracy: 0.8875\n",
            "Epoch 89/128\n",
            "2/2 [==============================] - 0s 50ms/step - loss: 0.2957 - accuracy: 0.9250\n",
            "Epoch 90/128\n",
            "2/2 [==============================] - 0s 61ms/step - loss: 0.1788 - accuracy: 0.9625\n",
            "Epoch 91/128\n",
            "2/2 [==============================] - 0s 61ms/step - loss: 0.1675 - accuracy: 0.9375\n",
            "Epoch 92/128\n",
            "2/2 [==============================] - 0s 59ms/step - loss: 0.2114 - accuracy: 0.9250\n",
            "Epoch 93/128\n",
            "2/2 [==============================] - 0s 60ms/step - loss: 0.1779 - accuracy: 0.9375\n",
            "Epoch 94/128\n",
            "2/2 [==============================] - 0s 57ms/step - loss: 0.1552 - accuracy: 0.9625\n",
            "Epoch 95/128\n",
            "2/2 [==============================] - 0s 58ms/step - loss: 0.1258 - accuracy: 0.9750\n",
            "Epoch 96/128\n",
            "2/2 [==============================] - 0s 61ms/step - loss: 0.1390 - accuracy: 0.9750\n",
            "Epoch 97/128\n",
            "2/2 [==============================] - 0s 56ms/step - loss: 0.1291 - accuracy: 0.9875\n",
            "Epoch 98/128\n",
            "2/2 [==============================] - 0s 52ms/step - loss: 0.0839 - accuracy: 1.0000\n",
            "Epoch 99/128\n",
            "2/2 [==============================] - 0s 60ms/step - loss: 0.1320 - accuracy: 0.9750\n",
            "Epoch 100/128\n",
            "2/2 [==============================] - 0s 55ms/step - loss: 0.1383 - accuracy: 0.9750\n",
            "Epoch 101/128\n",
            "2/2 [==============================] - 0s 57ms/step - loss: 0.1319 - accuracy: 0.9625\n",
            "Epoch 102/128\n",
            "2/2 [==============================] - 0s 60ms/step - loss: 0.1104 - accuracy: 0.9625\n",
            "Epoch 103/128\n",
            "2/2 [==============================] - 0s 59ms/step - loss: 0.2508 - accuracy: 0.9125\n",
            "Epoch 104/128\n",
            "2/2 [==============================] - 0s 58ms/step - loss: 0.0695 - accuracy: 0.9750\n",
            "Epoch 105/128\n",
            "2/2 [==============================] - 0s 69ms/step - loss: 0.3415 - accuracy: 0.8875\n",
            "Epoch 106/128\n",
            "2/2 [==============================] - 0s 63ms/step - loss: 0.1417 - accuracy: 0.9500\n",
            "Epoch 107/128\n",
            "2/2 [==============================] - 0s 93ms/step - loss: 0.2530 - accuracy: 0.8875\n",
            "Epoch 108/128\n",
            "2/2 [==============================] - 0s 91ms/step - loss: 0.1484 - accuracy: 0.9500\n",
            "Epoch 109/128\n",
            "2/2 [==============================] - 0s 98ms/step - loss: 0.1257 - accuracy: 0.9750\n",
            "Epoch 110/128\n",
            "2/2 [==============================] - 0s 102ms/step - loss: 0.2217 - accuracy: 0.9125\n",
            "Epoch 111/128\n",
            "2/2 [==============================] - 0s 98ms/step - loss: 0.1282 - accuracy: 0.9375\n",
            "Epoch 112/128\n",
            "2/2 [==============================] - 0s 101ms/step - loss: 0.1186 - accuracy: 0.9750\n",
            "Epoch 113/128\n",
            "2/2 [==============================] - 0s 94ms/step - loss: 0.1420 - accuracy: 0.9500\n",
            "Epoch 114/128\n",
            "2/2 [==============================] - 0s 91ms/step - loss: 0.0972 - accuracy: 0.9875\n",
            "Epoch 115/128\n",
            "2/2 [==============================] - 0s 97ms/step - loss: 0.2012 - accuracy: 0.9625\n",
            "Epoch 116/128\n",
            "2/2 [==============================] - 0s 102ms/step - loss: 0.0792 - accuracy: 0.9875\n",
            "Epoch 117/128\n",
            "2/2 [==============================] - 0s 99ms/step - loss: 0.0612 - accuracy: 1.0000\n",
            "Epoch 118/128\n",
            "2/2 [==============================] - 0s 102ms/step - loss: 0.0797 - accuracy: 0.9875\n",
            "Epoch 119/128\n",
            "2/2 [==============================] - 0s 56ms/step - loss: 0.0445 - accuracy: 0.9875\n",
            "Epoch 120/128\n",
            "2/2 [==============================] - 0s 62ms/step - loss: 0.0730 - accuracy: 0.9750\n",
            "Epoch 121/128\n",
            "2/2 [==============================] - 0s 58ms/step - loss: 0.0773 - accuracy: 0.9875\n",
            "Epoch 122/128\n",
            "2/2 [==============================] - 0s 60ms/step - loss: 0.0633 - accuracy: 0.9625\n",
            "Epoch 123/128\n",
            "2/2 [==============================] - 0s 60ms/step - loss: 0.0642 - accuracy: 0.9750\n",
            "Epoch 124/128\n",
            "2/2 [==============================] - 0s 63ms/step - loss: 0.1824 - accuracy: 0.9000\n",
            "Epoch 125/128\n",
            "2/2 [==============================] - 0s 62ms/step - loss: 0.0350 - accuracy: 1.0000\n",
            "Epoch 126/128\n",
            "2/2 [==============================] - 0s 58ms/step - loss: 0.0542 - accuracy: 0.9875\n",
            "Epoch 127/128\n",
            "2/2 [==============================] - 0s 60ms/step - loss: 0.0744 - accuracy: 0.9875\n",
            "Epoch 128/128\n",
            "2/2 [==============================] - 0s 58ms/step - loss: 0.0558 - accuracy: 0.9875\n"
          ]
        }
      ]
    },
    {
      "cell_type": "code",
      "source": [
        "model.save('chi tay.h5')"
      ],
      "metadata": {
        "id": "7GybGcZLEx1G"
      },
      "execution_count": null,
      "outputs": []
    },
    {
      "cell_type": "code",
      "source": [
        "import matplotlib.pyplot as plt\n",
        "from keras.utils import load_img\n",
        "from keras.utils.image_utils import img_to_array\n",
        "import numpy as np\n",
        "vat = {1: 'Tài vận tốt, Sức khỏe ổn định, tình duyên đào hoa',2:'Tài vận tốt, Sức khỏe ổn định, tình duyên lận đận', \n",
        "       3:'Tài vận tốt, sức khỏe kém, Tình duyên đào hoa', 4:'Tài vận tốt, sức khỏe kém, tình duyên lận đận',\n",
        "       5:'Tài vận kém, Sức khỏe ổn định, tình duyên đào hoa', 6:'Tài vận kém, Sức khỏe ổn định, tình duyên lận đận',\n",
        "       7:'Tài vận kém, sức khỏe kém, Tình duyên đào hoa', 8:'Tài vận kém, sức khỏe kém, tình duyên lận đận'}\n",
        "img = load_img(\"/content/drive/MyDrive/test/chitay test.jpg\",target_size=(30,40))\n",
        "plt.imshow(img)\n",
        "img = img_to_array(img)\n",
        "img=img.reshape(1,30,40,3)\n",
        "img = img.astype('float32')\n",
        "img =img/255\n",
        "result  = np.argmax(model.predict(img),axis=1)\n",
        "vat[result[0]]"
      ],
      "metadata": {
        "colab": {
          "base_uri": "https://localhost:8080/",
          "height": 466
        },
        "id": "ECPPuyNqFD7R",
        "outputId": "b9840c08-959f-4793-e3e0-95da45df1cd3"
      },
      "execution_count": null,
      "outputs": [
        {
          "output_type": "stream",
          "name": "stdout",
          "text": [
            "1/1 [==============================] - 1s 758ms/step\n"
          ]
        },
        {
          "output_type": "execute_result",
          "data": {
            "text/plain": [
              "'Tài vận kém, sức khỏe kém, tình duyên lận đận'"
            ],
            "application/vnd.google.colaboratory.intrinsic+json": {
              "type": "string"
            }
          },
          "metadata": {},
          "execution_count": 6
        },
        {
          "output_type": "display_data",
          "data": {
            "text/plain": [
              "<Figure size 640x480 with 1 Axes>"
            ],
            "image/png": "[encoded data removed]"
          },
          "metadata": {}
        }
      ]
    },
    {
      "cell_type": "code",
      "source": [],
      "metadata": {
        "id": "cFWW64xuF8Nm"
      },
      "execution_count": null,
      "outputs": []
    }
  ]
}