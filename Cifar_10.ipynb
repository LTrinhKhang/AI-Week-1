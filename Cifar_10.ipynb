{
  "nbformat": 4,
  "nbformat_minor": 0,
  "metadata": {
    "colab": {
      "provenance": [],
      "private_outputs": true,
      "mount_file_id": "1kBSO-v7GzEb0NsmdfDgJhbghPHC3GCCw",
      "authorship_tag": "ABX9TyPfI3CrVk9LPFObNpF6NjSD",
      "include_colab_link": true
    },
    "kernelspec": {
      "name": "python3",
      "display_name": "Python 3"
    },
    "language_info": {
      "name": "python"
    },
    "accelerator": "GPU",
    "gpuClass": "standard"
  },
  "cells": [
    {
      "cell_type": "markdown",
      "metadata": {
        "id": "view-in-github",
        "colab_type": "text"
      },
      "source": [
        "<a href=\"https://colab.research.google.com/github/LTrinhKhang/AI-Week-1/blob/main/Cifar_10.ipynb\" target=\"_parent\"><img src=\"https://colab.research.google.com/assets/colab-badge.svg\" alt=\"Open In Colab\"/></a>"
      ]
    },
    {
      "cell_type": "code",
      "execution_count": null,
      "metadata": {
        "id": "b9C5qD8tBOMt"
      },
      "outputs": [],
      "source": [
        "from keras.datasets import cifar10\n",
        "import matplotlib.pyplot as plt\n",
        "(x_train,y_train),(x_test,y_test)=cifar10.load_data()\n",
        "print('x_train : ',x_train.shape)\n",
        "print('y_train :',y_train.shape)\n",
        "print('x_test : ',x_test.shape)\n",
        "print('y_test : ',y_test.shape)\n",
        "\n",
        "digit = x_train[3]\n",
        "plt.imshow(digit,cmap=plt.cm.binary)\n",
        "plt.show()\n",
        "print('so',y_train[3])\n",
        "for i in range(35) :\n",
        "  plt.subplot(5,7,i+1)\n",
        "  plt.tight_layout()\n",
        "  plt.imshow(x_train[i], cmap='gray',interpolation='none')\n",
        "  plt.title ('Ten : {}'.format(y_train[i]))\n",
        "  plt.xticks([])\n",
        "  plt.yticks([])\n",
        "from keras.models import Sequential\n",
        "from keras.layers import Dense\n",
        "model = Sequential ()\n",
        "model.add(Dense (10000,activation='relu',input_shape =(32*32*3,)))\n",
        "model.add(Dense (8000,activation='relu'))\n",
        "model.add(Dense (6000,activation='relu'))\n",
        "model.add(Dense (4000,activation='relu'))\n",
        "model.add(Dense (2000,activation='relu'))\n",
        "model.add(Dense (1000,activation='relu'))\n",
        "model.add(Dense (500,activation='relu'))\n",
        "\n",
        "\n",
        "model.add(Dense (10 ,activation='softmax'))\n",
        "model.summary()\n",
        "X=x_test\n",
        "Y=y_test\n",
        "x_train=x_train.reshape(50000,32*32*3)\n",
        "x_train=x_train.astype('float32')/255 # Chuyen doi du lieu tu 0-255 thanh 0-1 voi kieu float\n",
        "x_test=x_test.reshape(10000,32*32*3)\n",
        "x_test=x_test.astype('float32')/255\n",
        "from keras.utils import to_categorical\n",
        "y_train=to_categorical(y_train,10)\n",
        "y_test=to_categorical(y_test,10)\n",
        "print('x_train : ',x_train.shape)\n",
        "print('y_train :',y_train.shape)\n",
        "print('x_test : ',x_test.shape)\n",
        "print('y_test : ',y_test.shape)\n",
        "\n",
        "model.compile(optimizer='rmsprop',loss='categorical_crossentropy',metrics=['accuracy'])\n",
        "model.fit(x_train,y_train,epochs=10,batch_size=128)\n",
        "test_loss,test_acc=model.evaluate(x_test,y_test)\n",
        "print('Mat mat : ',test_loss)\n",
        "print('Do chinh sat : ', test_acc)"
      ]
    },
    {
      "cell_type": "code",
      "source": [
        "model.save('test2.h5')"
      ],
      "metadata": {
        "id": "Hk1Lo7ekByVn"
      },
      "execution_count": null,
      "outputs": []
    },
    {
      "cell_type": "code",
      "source": [],
      "metadata": {
        "id": "-PgMR6SANtsT"
      },
      "execution_count": null,
      "outputs": []
    },
    {
      "cell_type": "code",
      "source": [
        "img='/content/images.jfif'\n",
        "import numpy as np\n",
        "from keras.utils import load_img,img_to_array\n",
        "img=load_img(img,target_size=(32,32))\n",
        "img=img_to_array(img)\n",
        "img=img.reshape(1,32*32*3)\n",
        "img=img.astype('float32')\n",
        "img=img/255\n",
        "np.argmax(model.predict(img),axis=1)"
      ],
      "metadata": {
        "id": "tRn16sn4E9D9"
      },
      "execution_count": null,
      "outputs": []
    },
    {
      "cell_type": "code",
      "source": [],
      "metadata": {
        "id": "cVUFwlg7OcE2"
      },
      "execution_count": null,
      "outputs": []
    }
  ]
}